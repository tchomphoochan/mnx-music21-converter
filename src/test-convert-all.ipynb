{
 "cells": [
  {
   "cell_type": "code",
   "id": "33439c25-1acc-4394-bdcd-91107f0aa4c2",
   "metadata": {
    "ExecuteTime": {
     "end_time": "2024-05-17T02:51:35.456376Z",
     "start_time": "2024-05-17T02:51:35.057620Z"
    }
   },
   "source": [
    "from music21 import converter, note, stream, meter, duration, chord, pitch, key, beam, clef\n",
    "import music21\n",
    "from typing import Optional, cast\n",
    "import mnx\n",
    "import convert\n",
    "import os\n",
    "import sys"
   ],
   "outputs": [],
   "execution_count": 1
  },
  {
   "metadata": {
    "ExecuteTime": {
     "end_time": "2024-05-17T02:51:35.461741Z",
     "start_time": "2024-05-17T02:51:35.458720Z"
    }
   },
   "cell_type": "code",
   "source": "import convert\n",
   "id": "7fd1acfd3c80f181",
   "outputs": [],
   "execution_count": 2
  },
  {
   "metadata": {
    "ExecuteTime": {
     "end_time": "2024-05-17T02:51:39.378146Z",
     "start_time": "2024-05-17T02:51:35.463087Z"
    }
   },
   "cell_type": "code",
   "source": [
    "example_path = '../examples'\n",
    "good_filenames = [\n",
    "    'bach_minuet.json',\n",
    "    'bach_minuet_rh.json',\n",
    "    'example_accidentals.json',\n",
    "    'example_articulations.json',\n",
    "    'example_beam_hooks.json',\n",
    "    'example_dotted_notes.json',\n",
    "    'example_hello_world.json',\n",
    "    'example_key_signatures.json',\n",
    "    'example_multiple_voices.json',\n",
    "    'example_parts.json',\n",
    "    'example_repeats.json',\n",
    "    'example_slurs.json',\n",
    "    'example_slurs_chords.json',\n",
    "    'example_three_note_chord_half_rest.json',\n",
    "    'example_ties.json',\n",
    "    'example_time_signatures.json',\n",
    "    'example_two_bar_c_major_scale.json',\n",
    "    'example_beams.json',\n",
    "]\n",
    "error_filenames = [\n",
    "    'example_beams_across_barlines.json',\n",
    "    'example_tuplets.json',\n",
    "    'liszt.json',\n",
    "]\n",
    "wrong_filenames = [\n",
    "    'example_grace.json',  # i didn't implement these.\n",
    "    'example_grace_beams.json',\n",
    "    'example_grace_in_beam.json',\n",
    "    'example_repeats_alternate_endings_advanced.json',\n",
    "    'example_repeats_more_than_once.json',  # this doesn't seem to be rendered correctly on musescore.\n",
    "    'example_secondary_beam_breaks.json',  # this looks wrong on musescore because musescore doesn't render beam breaks\n",
    "    'example_slurs_incomplete.json',  # seems to not be supported on music21?\n",
    "    'example_slurs_targeted.json',  # seems to not be supported on music21?\n",
    "    'example_rest_positions.json',  # this wasn't implemented, but music21 displays it correctly anyway\n",
    "]\n",
    "filenames = error_filenames\n",
    "for filename in sorted(filenames):\n",
    "    infilepath = os.path.join(example_path, filename)\n",
    "    try:\n",
    "        with open(infilepath, \"r\") as f:\n",
    "            inp = f.read()\n",
    "        print(f\"Parsing file {infilepath}\")\n",
    "        out = converter.parse(inp, format='mnx')\n",
    "        out.show()\n",
    "    except BaseException as ex:\n",
    "        print(f\"Error parsing file {infilepath}\")\n",
    "        print(repr(ex))\n",
    "        print(\"\")\n"
   ],
   "id": "d60ee0c8-76a8-43ee-9669-3795c03c47ad",
   "outputs": [
    {
     "name": "stdout",
     "output_type": "stream",
     "text": [
      "Parsing file ../examples/example_beams.json\n"
     ]
    },
    {
     "data": {
      "image/png": "[encoded data removed]",
      "text/plain": [
       "<IPython.core.display.Image object>"
      ]
     },
     "metadata": {
      "image/png": {
       "width": 674,
       "height": 49
      }
     },
     "output_type": "display_data"
    },
    {
     "name": "stdout",
     "output_type": "stream",
     "text": [
      "Parsing file ../examples/example_beams_across_barlines.json\n",
      "Error parsing file ../examples/example_beams_across_barlines.json\n",
      "KeyError('ev5', 'Identifier does not exist in the ID mappings')\n",
      "\n",
      "Parsing file ../examples/example_tuplets.json\n",
      "Error parsing file ../examples/example_tuplets.json\n",
      "KeyError('ev3', 'Identifier does not exist in the ID mappings')\n",
      "\n",
      "Parsing file ../examples/liszt.json\n",
      "Error parsing file ../examples/liszt.json\n",
      "KeyError('ev1', 'Identifier does not exist in the ID mappings')\n",
      "\n"
     ]
    }
   ],
   "execution_count": 3
  },
  {
   "metadata": {
    "ExecuteTime": {
     "end_time": "2024-05-17T02:51:39.383756Z",
     "start_time": "2024-05-17T02:51:39.380495Z"
    }
   },
   "cell_type": "code",
   "source": "",
   "id": "735589106815442f",
   "outputs": [],
   "execution_count": 3
  }
 ],
 "metadata": {
  "kernelspec": {
   "display_name": "Python 3 (ipykernel)",
   "language": "python",
   "name": "python3"
  },
  "language_info": {
   "codemirror_mode": {
    "name": "ipython",
    "version": 3
   },
   "file_extension": ".py",
   "mimetype": "text/x-python",
   "name": "python",
   "nbconvert_exporter": "python",
   "pygments_lexer": "ipython3",
   "version": "3.12.2"
  }
 },
 "nbformat": 4,
 "nbformat_minor": 5
}
