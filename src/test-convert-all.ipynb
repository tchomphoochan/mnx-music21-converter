{
 "cells": [
  {
   "cell_type": "code",
   "id": "33439c25-1acc-4394-bdcd-91107f0aa4c2",
   "metadata": {
    "ExecuteTime": {
     "end_time": "2024-05-17T02:25:18.528176Z",
     "start_time": "2024-05-17T02:25:17.970911Z"
    }
   },
   "source": [
    "from music21 import converter, note, stream, meter, duration, chord, pitch, key, beam, clef\n",
    "import music21\n",
    "from typing import Optional, cast\n",
    "import mnx"
   ],
   "outputs": [],
   "execution_count": 1
  },
  {
   "cell_type": "code",
   "id": "3fb764f5-d33d-4331-8dfc-fbad769a4eca",
   "metadata": {
    "ExecuteTime": {
     "end_time": "2024-05-17T02:25:18.540088Z",
     "start_time": "2024-05-17T02:25:18.530620Z"
    }
   },
   "source": [
    "import convert"
   ],
   "outputs": [],
   "execution_count": 2
  },
  {
   "cell_type": "markdown",
   "id": "24004550-2312-411d-8053-99d5c6fcc775",
   "metadata": {},
   "source": [
    "TODOS\n",
    "\n",
    "- [x] Articulations, Tremolo, markings\n",
    "- [ ] Tuplets\n",
    "- [ ] Ties\n",
    "- [ ] Note slurs, chord slurs\n",
    "- [ ] Octave shifts\n",
    "- [x] Tempo markings\n",
    "- [x] Barlines\n",
    "- [x] Repeats\n",
    "- [ ] Alternative endings\n",
    "- [ ] Basic styling\n",
    "\n",
    "Hard stuff:\n",
    "- [ ] Multiple layouts"
   ]
  },
  {
   "metadata": {
    "ExecuteTime": {
     "end_time": "2024-05-17T02:25:22.262021Z",
     "start_time": "2024-05-17T02:25:18.541541Z"
    }
   },
   "cell_type": "code",
   "source": [
    "import os\n",
    "import sys\n",
    "\n",
    "example_path = '../examples'\n",
    "filenames = [\n",
    "    # 'bach_minuet.json',\n",
    "    # 'example_repeats.json',\n",
    "    # 'example_repeats_alternate_endings_advanced@.json\n",
    "    # \"example_slurs.json\",\n",
    "    # \"example_slurs_chords.json\",\n",
    "    # \"example_slurs_targeted@.json\",\n",
    "    # \"example_slurs_incomplete.json\"\n",
    "    \"example_ties.json\",\n",
    "]\n",
    "for filename in sorted(filenames):\n",
    "    infilepath = os.path.join(example_path, filename)\n",
    "    try:\n",
    "        with open(infilepath, \"r\") as f:\n",
    "            inp = f.read()\n",
    "        print(f\"Parsing file {infilepath}\")\n",
    "        out = converter.parse(inp, format='mnx')\n",
    "        out.show()\n",
    "        # out.show('t', makeNotation=False)\n",
    "    except BaseException as ex:\n",
    "        print(f\"Error parsing file {infilepath}\")\n",
    "        print(ex)\n",
    "        print(\"\")\n"
   ],
   "id": "d60ee0c8-76a8-43ee-9669-3795c03c47ad",
   "outputs": [
    {
     "name": "stdout",
     "output_type": "stream",
     "text": [
      "Parsing file ../examples/example_ties.json\n"
     ]
    },
    {
     "data": {
      "image/png": "[encoded data removed]",
      "text/plain": [
       "<IPython.core.display.Image object>"
      ]
     },
     "metadata": {
      "image/png": {
       "width": 353,
       "height": 49
      }
     },
     "output_type": "display_data"
    }
   ],
   "execution_count": 3
  },
  {
   "metadata": {
    "ExecuteTime": {
     "end_time": "2024-05-17T02:25:22.270764Z",
     "start_time": "2024-05-17T02:25:22.265836Z"
    }
   },
   "cell_type": "code",
   "source": [
    "for n in out.flatten().notes:\n",
    "    print(n, n.tie)\n"
   ],
   "id": "2e3299590953bdfa",
   "outputs": [
    {
     "name": "stdout",
     "output_type": "stream",
     "text": [
      "<music21.note.Note C> None\n",
      "<music21.note.Note E> <music21.tie.Tie start>\n",
      "<music21.note.Note E> <music21.tie.Tie stop>\n",
      "<music21.note.Note C> <music21.tie.Tie start>\n",
      "<music21.note.Note C> <music21.tie.Tie continue>\n",
      "<music21.note.Note C> <music21.tie.Tie stop>\n"
     ]
    }
   ],
   "execution_count": 4
  },
  {
   "metadata": {
    "ExecuteTime": {
     "end_time": "2024-05-17T02:25:22.274675Z",
     "start_time": "2024-05-17T02:25:22.272130Z"
    }
   },
   "cell_type": "code",
   "source": "",
   "id": "54e652f1bf76536c",
   "outputs": [],
   "execution_count": 4
  }
 ],
 "metadata": {
  "kernelspec": {
   "display_name": "Python 3 (ipykernel)",
   "language": "python",
   "name": "python3"
  },
  "language_info": {
   "codemirror_mode": {
    "name": "ipython",
    "version": 3
   },
   "file_extension": ".py",
   "mimetype": "text/x-python",
   "name": "python",
   "nbconvert_exporter": "python",
   "pygments_lexer": "ipython3",
   "version": "3.12.2"
  }
 },
 "nbformat": 4,
 "nbformat_minor": 5
}
