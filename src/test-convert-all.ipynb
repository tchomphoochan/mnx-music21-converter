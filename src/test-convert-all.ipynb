{
 "cells": [
  {
   "cell_type": "code",
   "id": "33439c25-1acc-4394-bdcd-91107f0aa4c2",
   "metadata": {
    "ExecuteTime": {
     "end_time": "2024-05-17T00:55:16.563232Z",
     "start_time": "2024-05-17T00:55:16.559088Z"
    }
   },
   "source": [
    "from music21 import converter, note, stream, meter, duration, chord, pitch, key, beam, clef\n",
    "import music21\n",
    "from typing import Optional, cast\n",
    "import mnx"
   ],
   "outputs": [],
   "execution_count": 5
  },
  {
   "cell_type": "code",
   "id": "3fb764f5-d33d-4331-8dfc-fbad769a4eca",
   "metadata": {
    "ExecuteTime": {
     "end_time": "2024-05-17T00:55:16.585402Z",
     "start_time": "2024-05-17T00:55:16.582290Z"
    }
   },
   "source": [
    "import convert"
   ],
   "outputs": [],
   "execution_count": 6
  },
  {
   "cell_type": "markdown",
   "id": "24004550-2312-411d-8053-99d5c6fcc775",
   "metadata": {},
   "source": [
    "TODOS\n",
    "\n",
    "- [ ] Articulations, Tremolo, markings\n",
    "- [ ] Tuplets\n",
    "- [ ] Ties\n",
    "- [ ] Note slurs, chord slurs\n",
    "- [ ] Octave shifts\n",
    "- [ ] Tempo markings\n",
    "- [ ] Barlines\n",
    "- [ ] Repeats\n",
    "- [ ] Basic styling\n",
    "\n",
    "Hard stuff:\n",
    "- [ ] Multiple layouts"
   ]
  },
  {
   "cell_type": "code",
   "id": "cade437b-731a-4dca-a942-5286d61fde94",
   "metadata": {
    "ExecuteTime": {
     "end_time": "2024-05-17T00:55:16.605258Z",
     "start_time": "2024-05-17T00:55:16.600717Z"
    }
   },
   "source": [
    "import os\n",
    "import sys\n",
    "\n",
    "example_path = '../examples'\n",
    "output_path = '../outputs'\n",
    "os.makedirs(output_path, exist_ok=True)\n",
    "# filenames = os.listdir(example_path)\n",
    "filenames = []\n",
    "for filename in sorted(filenames):\n",
    "    infilepath = os.path.join(example_path, filename)\n",
    "    try:\n",
    "        with open(infilepath, \"r\") as f:\n",
    "            inp = f.read()\n",
    "        print(f\"Parsing file {infilepath}\")\n",
    "        out = converter.parse(inp, format='mnx')\n",
    "        out.show()\n",
    "    except BaseException as ex:\n",
    "        print(f\"Error parsing file {infilepath}\")\n",
    "        print(ex)\n",
    "        print(\"\")"
   ],
   "outputs": [],
   "execution_count": 7
  },
  {
   "metadata": {
    "ExecuteTime": {
     "end_time": "2024-05-17T00:55:23.027225Z",
     "start_time": "2024-05-17T00:55:16.607408Z"
    }
   },
   "cell_type": "code",
   "source": [
    "import os\n",
    "import sys\n",
    "\n",
    "example_path = '../examples'\n",
    "filenames = [\n",
    "    # 'bach_minuet.json',\n",
    "    'example_repeats.json',\n",
    "    'example_repeats_alternate_endings_advanced@.json',\n",
    "]\n",
    "for filename in sorted(filenames):\n",
    "    infilepath = os.path.join(example_path, filename)\n",
    "    try:\n",
    "        with open(infilepath, \"r\") as f:\n",
    "            inp = f.read()\n",
    "        print(f\"Parsing file {infilepath}\")\n",
    "        out = converter.parse(inp, format='mnx')\n",
    "        out.show()\n",
    "        out.show('t', makeNotation=False)\n",
    "    except BaseException as ex:\n",
    "        print(f\"Error parsing file {infilepath}\")\n",
    "        print(ex)\n",
    "        print(\"\")\n"
   ],
   "id": "d60ee0c8-76a8-43ee-9669-3795c03c47ad",
   "outputs": [
    {
     "name": "stdout",
     "output_type": "stream",
     "text": [
      "Parsing file ../examples/example_repeats.json\n"
     ]
    },
    {
     "data": {
      "image/png": "[encoded data removed]",
      "text/plain": [
       "<IPython.core.display.Image object>"
      ]
     },
     "metadata": {
      "image/png": {
       "width": 244,
       "height": 49
      }
     },
     "output_type": "display_data"
    },
    {
     "name": "stdout",
     "output_type": "stream",
     "text": [
      "{0.0} <music21.stream.Part 0x10d93bce0>\n",
      "    {0.0} <music21.stream.Measure 0 offset=0.0>\n",
      "        {0.0} <music21.bar.Repeat direction=start>\n",
      "        {0.0} <music21.clef.GClef>\n",
      "        {0.0} <music21.meter.TimeSignature 4/4>\n",
      "        {0.0} <music21.note.Note C>\n",
      "        {4.0} <music21.bar.Repeat direction=end>\n",
      "Parsing file ../examples/example_repeats_alternate_endings_advanced@.json\n"
     ]
    },
    {
     "data": {
      "image/png": "[encoded data removed]",
      "text/plain": [
       "<IPython.core.display.Image object>"
      ]
     },
     "metadata": {
      "image/png": {
       "width": 674,
       "height": 49
      }
     },
     "output_type": "display_data"
    },
    {
     "name": "stdout",
     "output_type": "stream",
     "text": [
      "{0.0} <music21.stream.Part 0x10b54dc10>\n",
      "    {0.0} <music21.stream.Measure 0 offset=0.0>\n",
      "        {0.0} <music21.bar.Repeat direction=start>\n",
      "        {0.0} <music21.clef.GClef>\n",
      "        {0.0} <music21.meter.TimeSignature 3/4>\n",
      "        {0.0} <music21.note.Note C>\n",
      "    {3.0} <music21.stream.Measure 0 offset=3.0>\n",
      "        {0.0} <music21.note.Note E>\n",
      "    {6.0} <music21.stream.Measure 0 offset=6.0>\n",
      "        {0.0} <music21.note.Note E>\n",
      "        {2.0} <music21.note.Note D>\n",
      "        {3.0} <music21.bar.Repeat direction=end>\n",
      "    {9.0} <music21.stream.Measure 0 offset=9.0>\n",
      "        {0.0} <music21.note.Note G>\n",
      "    {12.0} <music21.stream.Measure 0 offset=12.0>\n",
      "        {0.0} <music21.note.Note G>\n",
      "        {2.0} <music21.note.Note F>\n",
      "    {15.0} <music21.stream.Measure 0 offset=15.0>\n",
      "        {0.0} <music21.note.Note E>\n"
     ]
    }
   ],
   "execution_count": 8
  },
  {
   "metadata": {
    "ExecuteTime": {
     "end_time": "2024-05-17T00:55:23.033147Z",
     "start_time": "2024-05-17T00:55:23.030425Z"
    }
   },
   "cell_type": "code",
   "source": "",
   "id": "206387dfce1912bc",
   "outputs": [],
   "execution_count": 8
  }
 ],
 "metadata": {
  "kernelspec": {
   "display_name": "Python 3 (ipykernel)",
   "language": "python",
   "name": "python3"
  },
  "language_info": {
   "codemirror_mode": {
    "name": "ipython",
    "version": 3
   },
   "file_extension": ".py",
   "mimetype": "text/x-python",
   "name": "python",
   "nbconvert_exporter": "python",
   "pygments_lexer": "ipython3",
   "version": "3.12.2"
  }
 },
 "nbformat": 4,
 "nbformat_minor": 5
}
